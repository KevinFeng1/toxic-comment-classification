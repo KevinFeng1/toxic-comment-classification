{
 "cells": [
  {
   "cell_type": "code",
   "execution_count": 4,
   "metadata": {},
   "outputs": [],
   "source": [
    "import numpy as np # linear algebra\n",
    "import pandas as pd # data processing, CSV file I/O (e.g. pd.read_csv)\n",
    "from sklearn.preprocessing import minmax_scale\n",
    "\n",
    "submission_1 = pd.read_csv(\"inputs/lgb_gru_lr_lstm_nbsvm_avg.csv\")\n",
    "submission_2 = pd.read_csv(\"inputs/one_more_blend.csv\")\n",
    "\n",
    "blend = submission_1.copy()\n",
    "col = blend.columns\n",
    "\n",
    "col = col.tolist()\n",
    "col.remove('id')\n",
    "blend[col] = 0.4*minmax_scale(submission_1[col].values)+0.6*minmax_scale(submission_2[col].values)\n",
    "\n",
    "blend.to_csv(\"superblend_1.csv\", index=False)"
   ]
  },
  {
   "cell_type": "code",
   "execution_count": null,
   "metadata": {
    "collapsed": true
   },
   "outputs": [],
   "source": []
  }
 ],
 "metadata": {
  "kernelspec": {
   "display_name": "Python 3",
   "language": "python",
   "name": "python3"
  },
  "language_info": {
   "codemirror_mode": {
    "name": "ipython",
    "version": 3
   },
   "file_extension": ".py",
   "mimetype": "text/x-python",
   "name": "python",
   "nbconvert_exporter": "python",
   "pygments_lexer": "ipython3",
   "version": "3.6.3"
  }
 },
 "nbformat": 4,
 "nbformat_minor": 2
}
